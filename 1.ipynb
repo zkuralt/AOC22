{
 "cells": [
  {
   "cell_type": "code",
   "execution_count": 1,
   "metadata": {},
   "outputs": [
    {
     "data": {
      "text/plain": [
       "207410"
      ]
     },
     "execution_count": 1,
     "metadata": {},
     "output_type": "execute_result"
    }
   ],
   "source": [
    "import os\n",
    "os.environ[\"AOC_SESSION\"] = \"53616c7465645f5fa1e10e00a4be4ef23c901fa468783a86e3ebf71767eb88a1c5187c78c7df76dc89334225932b19786244a1f919d7d24c40d0990d50a2534e\"\n",
    "\n",
    "import matplotlib.pyplot as plt\n",
    "import numpy as np\n",
    "import pandas as pd\n",
    "from aocd import get_data, submit\n",
    "\n",
    "DAY = 1\n",
    "YEAR = 2022\n",
    "\n",
    "data = get_data(day=DAY, year=YEAR)\n",
    "\n",
    "# define data process function\n",
    "def process(data):\n",
    "    data = [np.array(d.split('\\n'), dtype=int) for d in data.split('\\n\\n')]\n",
    "    return data\n",
    "\n",
    "data = process(data)\n",
    "\n",
    "\n",
    "\n",
    "# list comprehension for sum of \n",
    "cal_sum = np.array([np.sum(d) for d in data])\n",
    "\n",
    "# find max value\n",
    "result1 = cal_sum[np.argmax(cal_sum)]\n",
    "result1\n",
    "\n",
    "\n",
    "\n",
    "\n",
    "# sort list in descending order, choose first three elements, calculate sum\n",
    "result2 = sum(np.sort(cal_sum)[::-1][0:3])\n",
    "result2\n",
    "\n",
    "\n",
    "\n",
    "     \n",
    "\n",
    "     \n",
    "\n"
   ]
  },
  {
   "cell_type": "code",
   "execution_count": 5,
   "metadata": {},
   "outputs": [
    {
     "data": {
      "text/plain": [
       "True"
      ]
     },
     "execution_count": 5,
     "metadata": {},
     "output_type": "execute_result"
    }
   ],
   "source": []
  }
 ],
 "metadata": {
  "kernelspec": {
   "display_name": "Python 3.10.8 64-bit (microsoft store)",
   "language": "python",
   "name": "python3"
  },
  "language_info": {
   "codemirror_mode": {
    "name": "ipython",
    "version": 3
   },
   "file_extension": ".py",
   "mimetype": "text/x-python",
   "name": "python",
   "nbconvert_exporter": "python",
   "pygments_lexer": "ipython3",
   "version": "3.10.8"
  },
  "orig_nbformat": 4,
  "vscode": {
   "interpreter": {
    "hash": "590c18b9f689efdaf7451d6737ae6e2db80bc0796cddaafa406c365130444b89"
   }
  }
 },
 "nbformat": 4,
 "nbformat_minor": 2
}
