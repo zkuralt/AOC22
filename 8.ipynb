{
 "cells": [
  {
   "cell_type": "code",
   "execution_count": 1,
   "metadata": {},
   "outputs": [
    {
     "name": "stdout",
     "output_type": "stream",
     "text": [
      "[[1 1 1 ... 1 1 1]\n",
      " [1 0 1 ... 0 0 1]\n",
      " [1 0 1 ... 0 1 1]\n",
      " ...\n",
      " [1 0 0 ... 0 0 1]\n",
      " [1 0 1 ... 0 1 1]\n",
      " [1 1 1 ... 1 1 1]]\n"
     ]
    },
    {
     "data": {
      "text/plain": [
       "1827"
      ]
     },
     "execution_count": 1,
     "metadata": {},
     "output_type": "execute_result"
    }
   ],
   "source": [
    "import os\n",
    "os.environ[\"AOC_SESSION\"] = \"53616c7465645f5fa1e10e00a4be4ef23c901fa468783a86e3ebf71767eb88a1c5187c78c7df76dc89334225932b19786244a1f919d7d24c40d0990d50a2534e\"\n",
    "\n",
    "import matplotlib.pyplot as plt\n",
    "import numpy as np\n",
    "from aocd import get_data, submit\n",
    "\n",
    "DAY = 8\n",
    "YEAR = 2022\n",
    "\n",
    "raw = get_data(day=DAY, year=YEAR)\n",
    "\n",
    "def parse_data(data):\n",
    "    data = raw.split('\\n')\n",
    "    data = [list(x) for x in data]\n",
    "    return np.array(data, dtype=int)\n",
    "\n",
    "data = parse_data(raw)\n",
    "data\n",
    "\n",
    "def check_trees(data, i, j):\n",
    "    el = data[i,j]\n",
    "    lc = all(el > data[i,:j])\n",
    "    rc = all(el > data[i,j+1:])\n",
    "    uc = all(el > data[:i, j])\n",
    "    dc = all(el > data[i+1:, j])\n",
    "\n",
    "    return any([lc, rc, uc, dc])    \n",
    "\n",
    "n, m = data.shape\n",
    "mask = np.zeros_like(data)\n",
    "\n",
    "for i in range(0,n):\n",
    "    for j in range(0,m):\n",
    "        if check_trees(data, i, j):\n",
    "            mask[i, j] = True\n",
    "print(mask)\n",
    "np.sum(mask)    \n",
    "\n",
    "\n",
    "\n",
    "\n",
    "     \n",
    "\n",
    "     \n",
    "\n"
   ]
  },
  {
   "cell_type": "code",
   "execution_count": 2,
   "metadata": {},
   "outputs": [
    {
     "data": {
      "text/plain": [
       "335580"
      ]
     },
     "execution_count": 2,
     "metadata": {},
     "output_type": "execute_result"
    }
   ],
   "source": [
    "def tree_score(data, i, j):\n",
    "    el = data[i,j]\n",
    "    trees_list = [data[i,:j][::-1], data[i,j+1:], data[:i, j][::-1], data[i+1:, j]]\n",
    "    distance = []\n",
    "    for trees in trees_list:\n",
    "        dis = 0\n",
    "        for d in trees:\n",
    "            dis += 1\n",
    "            if el <= d:\n",
    "                break\n",
    "        distance.append(dis)\n",
    "    return np.prod(distance)\n",
    "\n",
    "n, m = data.shape\n",
    "score = []\n",
    "\n",
    "for i in range(0,n):\n",
    "    for j in range(0,m):\n",
    "            score.append(tree_score(data, i, j))\n",
    "\n",
    "max(score) "
   ]
  }
 ],
 "metadata": {
  "kernelspec": {
   "display_name": "Python 3.10.8 64-bit (microsoft store)",
   "language": "python",
   "name": "python3"
  },
  "language_info": {
   "codemirror_mode": {
    "name": "ipython",
    "version": 3
   },
   "file_extension": ".py",
   "mimetype": "text/x-python",
   "name": "python",
   "nbconvert_exporter": "python",
   "pygments_lexer": "ipython3",
   "version": "3.10.9"
  },
  "orig_nbformat": 4,
  "vscode": {
   "interpreter": {
    "hash": "590c18b9f689efdaf7451d6737ae6e2db80bc0796cddaafa406c365130444b89"
   }
  }
 },
 "nbformat": 4,
 "nbformat_minor": 2
}
